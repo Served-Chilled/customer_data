{
  "nbformat": 4,
  "nbformat_minor": 0,
  "metadata": {
    "colab": {
      "name": "Hackathon Winter 2020 Lambda.ipynb",
      "provenance": []
    },
    "kernelspec": {
      "name": "python3",
      "display_name": "Python 3"
    }
  },
  "cells": [
    {
      "cell_type": "code",
      "metadata": {
        "id": "VGbM2blPjaOU",
        "colab_type": "code",
        "outputId": "ac57a220-cd9f-405b-e527-67fd0ead3055",
        "colab": {
          "base_uri": "https://localhost:8080/",
          "height": 173
        }
      },
      "source": [
        "!pip install Faker\n"
      ],
      "execution_count": 1,
      "outputs": [
        {
          "output_type": "stream",
          "text": [
            "Collecting Faker\n",
            "\u001b[?25l  Downloading https://files.pythonhosted.org/packages/cd/e0/13105994434cd0ff16d49391a2666f7ef5ce95daea3975f1126c22d3ef20/Faker-3.0.0-py2.py3-none-any.whl (968kB)\n",
            "\r\u001b[K     |▍                               | 10kB 16.0MB/s eta 0:00:01\r\u001b[K     |▊                               | 20kB 1.7MB/s eta 0:00:01\r\u001b[K     |█                               | 30kB 2.5MB/s eta 0:00:01\r\u001b[K     |█▍                              | 40kB 1.7MB/s eta 0:00:01\r\u001b[K     |█▊                              | 51kB 2.1MB/s eta 0:00:01\r\u001b[K     |██                              | 61kB 2.5MB/s eta 0:00:01\r\u001b[K     |██▍                             | 71kB 2.8MB/s eta 0:00:01\r\u001b[K     |██▊                             | 81kB 3.2MB/s eta 0:00:01\r\u001b[K     |███                             | 92kB 3.6MB/s eta 0:00:01\r\u001b[K     |███▍                            | 102kB 2.8MB/s eta 0:00:01\r\u001b[K     |███▊                            | 112kB 2.8MB/s eta 0:00:01\r\u001b[K     |████                            | 122kB 2.8MB/s eta 0:00:01\r\u001b[K     |████▍                           | 133kB 2.8MB/s eta 0:00:01\r\u001b[K     |████▊                           | 143kB 2.8MB/s eta 0:00:01\r\u001b[K     |█████                           | 153kB 2.8MB/s eta 0:00:01\r\u001b[K     |█████▍                          | 163kB 2.8MB/s eta 0:00:01\r\u001b[K     |█████▊                          | 174kB 2.8MB/s eta 0:00:01\r\u001b[K     |██████                          | 184kB 2.8MB/s eta 0:00:01\r\u001b[K     |██████▍                         | 194kB 2.8MB/s eta 0:00:01\r\u001b[K     |██████▊                         | 204kB 2.8MB/s eta 0:00:01\r\u001b[K     |███████                         | 215kB 2.8MB/s eta 0:00:01\r\u001b[K     |███████▍                        | 225kB 2.8MB/s eta 0:00:01\r\u001b[K     |███████▉                        | 235kB 2.8MB/s eta 0:00:01\r\u001b[K     |████████▏                       | 245kB 2.8MB/s eta 0:00:01\r\u001b[K     |████████▌                       | 256kB 2.8MB/s eta 0:00:01\r\u001b[K     |████████▉                       | 266kB 2.8MB/s eta 0:00:01\r\u001b[K     |█████████▏                      | 276kB 2.8MB/s eta 0:00:01\r\u001b[K     |█████████▌                      | 286kB 2.8MB/s eta 0:00:01\r\u001b[K     |█████████▉                      | 296kB 2.8MB/s eta 0:00:01\r\u001b[K     |██████████▏                     | 307kB 2.8MB/s eta 0:00:01\r\u001b[K     |██████████▌                     | 317kB 2.8MB/s eta 0:00:01\r\u001b[K     |██████████▉                     | 327kB 2.8MB/s eta 0:00:01\r\u001b[K     |███████████▏                    | 337kB 2.8MB/s eta 0:00:01\r\u001b[K     |███████████▌                    | 348kB 2.8MB/s eta 0:00:01\r\u001b[K     |███████████▉                    | 358kB 2.8MB/s eta 0:00:01\r\u001b[K     |████████████▏                   | 368kB 2.8MB/s eta 0:00:01\r\u001b[K     |████████████▌                   | 378kB 2.8MB/s eta 0:00:01\r\u001b[K     |████████████▉                   | 389kB 2.8MB/s eta 0:00:01\r\u001b[K     |█████████████▏                  | 399kB 2.8MB/s eta 0:00:01\r\u001b[K     |█████████████▌                  | 409kB 2.8MB/s eta 0:00:01\r\u001b[K     |█████████████▉                  | 419kB 2.8MB/s eta 0:00:01\r\u001b[K     |██████████████▏                 | 430kB 2.8MB/s eta 0:00:01\r\u001b[K     |██████████████▌                 | 440kB 2.8MB/s eta 0:00:01\r\u001b[K     |██████████████▉                 | 450kB 2.8MB/s eta 0:00:01\r\u001b[K     |███████████████▏                | 460kB 2.8MB/s eta 0:00:01\r\u001b[K     |███████████████▋                | 471kB 2.8MB/s eta 0:00:01\r\u001b[K     |████████████████                | 481kB 2.8MB/s eta 0:00:01\r\u001b[K     |████████████████▎               | 491kB 2.8MB/s eta 0:00:01\r\u001b[K     |████████████████▋               | 501kB 2.8MB/s eta 0:00:01\r\u001b[K     |█████████████████               | 512kB 2.8MB/s eta 0:00:01\r\u001b[K     |█████████████████▎              | 522kB 2.8MB/s eta 0:00:01\r\u001b[K     |█████████████████▋              | 532kB 2.8MB/s eta 0:00:01\r\u001b[K     |██████████████████              | 542kB 2.8MB/s eta 0:00:01\r\u001b[K     |██████████████████▎             | 552kB 2.8MB/s eta 0:00:01\r\u001b[K     |██████████████████▋             | 563kB 2.8MB/s eta 0:00:01\r\u001b[K     |███████████████████             | 573kB 2.8MB/s eta 0:00:01\r\u001b[K     |███████████████████▎            | 583kB 2.8MB/s eta 0:00:01\r\u001b[K     |███████████████████▋            | 593kB 2.8MB/s eta 0:00:01\r\u001b[K     |████████████████████            | 604kB 2.8MB/s eta 0:00:01\r\u001b[K     |████████████████████▎           | 614kB 2.8MB/s eta 0:00:01\r\u001b[K     |████████████████████▋           | 624kB 2.8MB/s eta 0:00:01\r\u001b[K     |█████████████████████           | 634kB 2.8MB/s eta 0:00:01\r\u001b[K     |█████████████████████▎          | 645kB 2.8MB/s eta 0:00:01\r\u001b[K     |█████████████████████▋          | 655kB 2.8MB/s eta 0:00:01\r\u001b[K     |██████████████████████          | 665kB 2.8MB/s eta 0:00:01\r\u001b[K     |██████████████████████▎         | 675kB 2.8MB/s eta 0:00:01\r\u001b[K     |██████████████████████▋         | 686kB 2.8MB/s eta 0:00:01\r\u001b[K     |███████████████████████         | 696kB 2.8MB/s eta 0:00:01\r\u001b[K     |███████████████████████▍        | 706kB 2.8MB/s eta 0:00:01\r\u001b[K     |███████████████████████▊        | 716kB 2.8MB/s eta 0:00:01\r\u001b[K     |████████████████████████        | 727kB 2.8MB/s eta 0:00:01\r\u001b[K     |████████████████████████▍       | 737kB 2.8MB/s eta 0:00:01\r\u001b[K     |████████████████████████▊       | 747kB 2.8MB/s eta 0:00:01\r\u001b[K     |█████████████████████████       | 757kB 2.8MB/s eta 0:00:01\r\u001b[K     |█████████████████████████▍      | 768kB 2.8MB/s eta 0:00:01\r\u001b[K     |█████████████████████████▊      | 778kB 2.8MB/s eta 0:00:01\r\u001b[K     |██████████████████████████      | 788kB 2.8MB/s eta 0:00:01\r\u001b[K     |██████████████████████████▍     | 798kB 2.8MB/s eta 0:00:01\r\u001b[K     |██████████████████████████▊     | 808kB 2.8MB/s eta 0:00:01\r\u001b[K     |███████████████████████████     | 819kB 2.8MB/s eta 0:00:01\r\u001b[K     |███████████████████████████▍    | 829kB 2.8MB/s eta 0:00:01\r\u001b[K     |███████████████████████████▊    | 839kB 2.8MB/s eta 0:00:01\r\u001b[K     |████████████████████████████    | 849kB 2.8MB/s eta 0:00:01\r\u001b[K     |████████████████████████████▍   | 860kB 2.8MB/s eta 0:00:01\r\u001b[K     |████████████████████████████▊   | 870kB 2.8MB/s eta 0:00:01\r\u001b[K     |█████████████████████████████   | 880kB 2.8MB/s eta 0:00:01\r\u001b[K     |█████████████████████████████▍  | 890kB 2.8MB/s eta 0:00:01\r\u001b[K     |█████████████████████████████▊  | 901kB 2.8MB/s eta 0:00:01\r\u001b[K     |██████████████████████████████  | 911kB 2.8MB/s eta 0:00:01\r\u001b[K     |██████████████████████████████▍ | 921kB 2.8MB/s eta 0:00:01\r\u001b[K     |██████████████████████████████▉ | 931kB 2.8MB/s eta 0:00:01\r\u001b[K     |███████████████████████████████▏| 942kB 2.8MB/s eta 0:00:01\r\u001b[K     |███████████████████████████████▌| 952kB 2.8MB/s eta 0:00:01\r\u001b[K     |███████████████████████████████▉| 962kB 2.8MB/s eta 0:00:01\r\u001b[K     |████████████████████████████████| 972kB 2.8MB/s \n",
            "\u001b[?25hRequirement already satisfied: six>=1.10 in /usr/local/lib/python3.6/dist-packages (from Faker) (1.12.0)\n",
            "Requirement already satisfied: text-unidecode==1.3 in /usr/local/lib/python3.6/dist-packages (from Faker) (1.3)\n",
            "Requirement already satisfied: python-dateutil>=2.4 in /usr/local/lib/python3.6/dist-packages (from Faker) (2.6.1)\n",
            "Installing collected packages: Faker\n",
            "Successfully installed Faker-3.0.0\n"
          ],
          "name": "stdout"
        }
      ]
    },
    {
      "cell_type": "code",
      "metadata": {
        "id": "7SdgeS7zkLNq",
        "colab_type": "code",
        "colab": {}
      },
      "source": [
        "from faker import Faker"
      ],
      "execution_count": 0,
      "outputs": []
    },
    {
      "cell_type": "code",
      "metadata": {
        "id": "jyUUMtOfkUMq",
        "colab_type": "code",
        "colab": {}
      },
      "source": [
        "fake1 = Faker(['en_US'])\n",
        "    \n",
        "customers_list1 = []"
      ],
      "execution_count": 0,
      "outputs": []
    },
    {
      "cell_type": "code",
      "metadata": {
        "id": "KoXth1KpxIyY",
        "colab_type": "code",
        "colab": {}
      },
      "source": [
        "class Customers: \n",
        "    def __init__(self, name, pyint, credit_card, address, country, date, email, job, phone_number, ean):\n",
        "        self.name = name\n",
        "        self.pyint = pyint\n",
        "        self.credit_card = credit_card\n",
        "        self.address = address\n",
        "        self.country = country\n",
        "        self.date = date\n",
        "        self.email = email\n",
        "        self.job = job \n",
        "        self.phone_number = phone_number\n",
        "        self.ean = ean\n",
        "    def __repr__(self):\n",
        "        return 'name: {}, pyint:{}, credit_card: {}, address: {}, country: {}, date: {}, email: {}, job: {}, phone_number: {}, ean: {} '.format(\n",
        "            self.name,self.pyint,self.credit_card,self.address,self.country,self.date,self.email,self.job,self.phone_number,self.ean)"
      ],
      "execution_count": 0,
      "outputs": []
    },
    {
      "cell_type": "code",
      "metadata": {
        "id": "AzwMJAG6xmZ1",
        "colab_type": "code",
        "colab": {}
      },
      "source": [
        "# 100,000 customers from USA. \n",
        "\n",
        "for _ in range(100000):\n",
        "    customers_list1.append(Customers(fake1.name(),fake1.pyint(min_value=0, max_value=10, step=1),\n",
        "     fake1.credit_card_security_code(card_type=None),\n",
        "     fake1.address(), fake1.country(), fake1.date(pattern=\"%Y-%m-%d\", end_datetime=None),\n",
        "     fake1.email(), fake1.job(), fake1.phone_number(),\n",
        "     fake1.ean(length=13)))    \n",
        "    \n",
        "for i in customers_list1:\n",
        "    print(i,'\\n')"
      ],
      "execution_count": 0,
      "outputs": []
    },
    {
      "cell_type": "code",
      "metadata": {
        "id": "qCArM-CiyEHB",
        "colab_type": "code",
        "colab": {}
      },
      "source": [
        "# Attempted to upload into sqlite3 but never got to it. \n",
        "\n",
        "# import sqlite3\n",
        "\n",
        "# connection = sqlite3.connect('fake_database.db')\n",
        "\n",
        "# cursor = connection.cursor()\n",
        "\n",
        "# cursor.execute('''CREATE TABLE IF NOT EXISTS table1(name text, address text, country text, email text)''')\n",
        "\n",
        "# cursor.execute('INSERT INTO table1 VALUES(:name, :address, :country, :email)',\n",
        "#               {'name': fake1.name(), 'address': fake1.address(), 'country': fake1.country(), 'email': fake1.email()})\n",
        "\n",
        "# cursor.execute('SELECT * FROM table1')\n",
        "\n",
        "# for i in cursor.execute('SELECT name, address, country, email FROM table1'):\n",
        "#     print(i)\n",
        "    \n",
        "# connection.commit()\n",
        "\n",
        "# connection.close()"
      ],
      "execution_count": 0,
      "outputs": []
    }
  ]
}